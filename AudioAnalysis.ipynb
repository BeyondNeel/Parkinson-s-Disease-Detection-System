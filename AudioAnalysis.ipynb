{
  "nbformat": 4,
  "nbformat_minor": 0,
  "metadata": {
    "colab": {
      "provenance": []
    },
    "kernelspec": {
      "name": "python3",
      "display_name": "Python 3"
    },
    "language_info": {
      "name": "python"
    }
  },
  "cells": [
    {
      "cell_type": "code",
      "source": [
        "pip install nolds"
      ],
      "metadata": {
        "colab": {
          "base_uri": "https://localhost:8080/"
        },
        "id": "fST-qLDxL4Bw",
        "outputId": "8f9b9f6f-27b4-41ba-b383-b6ef60002cb2"
      },
      "execution_count": null,
      "outputs": [
        {
          "output_type": "stream",
          "name": "stdout",
          "text": [
            "Collecting nolds\n",
            "  Downloading nolds-0.5.2-py2.py3-none-any.whl (39 kB)\n",
            "Requirement already satisfied: numpy in /usr/local/lib/python3.10/dist-packages (from nolds) (1.23.5)\n",
            "Requirement already satisfied: future in /usr/local/lib/python3.10/dist-packages (from nolds) (0.18.3)\n",
            "Requirement already satisfied: setuptools in /usr/local/lib/python3.10/dist-packages (from nolds) (67.7.2)\n",
            "Installing collected packages: nolds\n",
            "Successfully installed nolds-0.5.2\n"
          ]
        }
      ]
    },
    {
      "cell_type": "code",
      "execution_count": null,
      "metadata": {
        "id": "nTobJgCRDvNa"
      },
      "outputs": [],
      "source": [
        "import numpy as np\n",
        "import librosa\n",
        "import warnings\n",
        "import nolds\n",
        "# Ignore all warnings\n",
        "warnings.filterwarnings(\"ignore\")"
      ]
    },
    {
      "cell_type": "code",
      "source": [
        "# Load audio file\n",
        "audio_file = \"/content/Recording.m4a\"\n",
        "y, sr = librosa.load(audio_file, sr=None)\n",
        "\n",
        "# Extract pitch using YIN algorithm in librosa\n",
        "pitch, _ = librosa.core.piptrack(y=y, sr=sr, fmax=600, fmin=50)\n",
        "\n",
        "# Calculate the mean pitch value (ignoring zeros)\n",
        "mean_pitch = np.mean(pitch[pitch > 0])\n",
        "\n",
        "# Find fo, fhi, and flo\n",
        "fo = mean_pitch\n",
        "fhi = np.max(pitch[pitch > 0])\n",
        "flo = np.min(pitch[pitch > 0])\n",
        "\n",
        "print(f\"Fundamental Frequency (fo): {fo:.6f} Hz\")\n",
        "print(f\"Highest Frequency (fhi): {fhi:.6f} Hz\")\n",
        "print(f\"Lowest Frequency (flo): {flo:.6f} Hz\")"
      ],
      "metadata": {
        "colab": {
          "base_uri": "https://localhost:8080/"
        },
        "id": "ZzD-KIcEEODB",
        "outputId": "771b81d2-8ddc-467a-bbb4-18fc669bacc0"
      },
      "execution_count": null,
      "outputs": [
        {
          "output_type": "stream",
          "name": "stdout",
          "text": [
            "Fundamental Frequency (fo): 340.664032 Hz\n",
            "Highest Frequency (fhi): 597.622253 Hz\n",
            "Lowest Frequency (flo): 72.572464 Hz\n"
          ]
        }
      ]
    },
    {
      "cell_type": "code",
      "source": [
        "y.shape"
      ],
      "metadata": {
        "colab": {
          "base_uri": "https://localhost:8080/"
        },
        "id": "Jz_FhkOWjAyZ",
        "outputId": "989115d0-d7c0-4cc8-cc19-8dd545ab91bd"
      },
      "execution_count": null,
      "outputs": [
        {
          "output_type": "execute_result",
          "data": {
            "text/plain": [
              "(269312,)"
            ]
          },
          "metadata": {},
          "execution_count": 4
        }
      ]
    },
    {
      "cell_type": "code",
      "source": [
        "pitch"
      ],
      "metadata": {
        "colab": {
          "base_uri": "https://localhost:8080/"
        },
        "id": "GQ8dpeQPFmbl",
        "outputId": "5a7988e5-bf67-4a5f-d9f2-33067ccd81cc"
      },
      "execution_count": null,
      "outputs": [
        {
          "output_type": "execute_result",
          "data": {
            "text/plain": [
              "array([[0., 0., 0., ..., 0., 0., 0.],\n",
              "       [0., 0., 0., ..., 0., 0., 0.],\n",
              "       [0., 0., 0., ..., 0., 0., 0.],\n",
              "       ...,\n",
              "       [0., 0., 0., ..., 0., 0., 0.],\n",
              "       [0., 0., 0., ..., 0., 0., 0.],\n",
              "       [0., 0., 0., ..., 0., 0., 0.]], dtype=float32)"
            ]
          },
          "metadata": {},
          "execution_count": 5
        }
      ]
    },
    {
      "cell_type": "code",
      "source": [
        "# Calculate time between consecutive samples\n",
        "time_diff = np.diff(librosa.samples_to_time(np.arange(len(y)), sr=sr))\n",
        "\n",
        "# Calculate jitter as the standard deviation of time differences\n",
        "jitter_percentage = (np.std(time_diff) / np.mean(time_diff)) * 100\n",
        "jitter_percentage"
      ],
      "metadata": {
        "colab": {
          "base_uri": "https://localhost:8080/"
        },
        "id": "wQZ4mHhbnLVJ",
        "outputId": "a69a635c-433e-432c-eb7b-f7f136170153"
      },
      "execution_count": null,
      "outputs": [
        {
          "output_type": "execute_result",
          "data": {
            "text/plain": [
              "1.1509564038325873e-09"
            ]
          },
          "metadata": {},
          "execution_count": 6
        }
      ]
    },
    {
      "cell_type": "code",
      "source": [
        "# Calculate absolute jitter as the mean absolute difference of time differences\n",
        "jitter_absolute = np.mean(np.abs(time_diff))\n",
        "jitter_absolute"
      ],
      "metadata": {
        "colab": {
          "base_uri": "https://localhost:8080/"
        },
        "id": "2OFbfF69qjMx",
        "outputId": "2f9391a2-266d-420b-d5f6-b5b67140d4c5"
      },
      "execution_count": null,
      "outputs": [
        {
          "output_type": "execute_result",
          "data": {
            "text/plain": [
              "2.0833333333333336e-05"
            ]
          },
          "metadata": {},
          "execution_count": 40
        }
      ]
    },
    {
      "cell_type": "code",
      "source": [
        "# Calculate RAP, PPQ, Jitter:DDP\n",
        "rap = np.mean(np.abs(np.diff(np.diff(pitch))))\n",
        "ppq = np.mean(np.abs(np.diff(pitch)))\n",
        "jitter_ddp = rap * 3\n",
        "rap"
      ],
      "metadata": {
        "colab": {
          "base_uri": "https://localhost:8080/"
        },
        "id": "hZrp1it9NpoC",
        "outputId": "64505fb2-6c6d-40d3-9755-ed355f109280"
      },
      "execution_count": null,
      "outputs": [
        {
          "output_type": "execute_result",
          "data": {
            "text/plain": [
              "1.4159557"
            ]
          },
          "metadata": {},
          "execution_count": 10
        }
      ]
    },
    {
      "cell_type": "code",
      "source": [
        "ppq"
      ],
      "metadata": {
        "colab": {
          "base_uri": "https://localhost:8080/"
        },
        "id": "i9b6V-e2OU6z",
        "outputId": "d1a8e489-1fe1-4337-ac56-0c2d7af38de2"
      },
      "execution_count": null,
      "outputs": [
        {
          "output_type": "execute_result",
          "data": {
            "text/plain": [
              "0.7135988"
            ]
          },
          "metadata": {},
          "execution_count": 11
        }
      ]
    },
    {
      "cell_type": "code",
      "source": [
        "jitter_ddp"
      ],
      "metadata": {
        "colab": {
          "base_uri": "https://localhost:8080/"
        },
        "id": "V_uJk3hZOcTm",
        "outputId": "9219c37d-70fa-40eb-94f2-1b63af3154d6"
      },
      "execution_count": null,
      "outputs": [
        {
          "output_type": "execute_result",
          "data": {
            "text/plain": [
              "4.247866988182068"
            ]
          },
          "metadata": {},
          "execution_count": 12
        }
      ]
    },
    {
      "cell_type": "code",
      "source": [
        "# Calculate Shimmer, Shimmer(dB), Shimmer:APQ3, Shimmer:APQ5, Shimmer:DDA\n",
        "shimmer = np.mean(np.abs(np.diff(y)))\n",
        "shimmer_db = 20 * np.log10(np.mean(np.abs(np.diff(y))))\n",
        "shimmer_apq3 = np.mean(np.abs(np.diff(np.diff(y))))\n",
        "shimmer_apq5 = np.mean(np.abs(np.diff(np.diff(np.diff(y)))))"
      ],
      "metadata": {
        "id": "YA740ym1Oedz"
      },
      "execution_count": null,
      "outputs": []
    },
    {
      "cell_type": "code",
      "source": [
        "shimmer"
      ],
      "metadata": {
        "colab": {
          "base_uri": "https://localhost:8080/"
        },
        "id": "6ZLLMc_lOnbf",
        "outputId": "8ee868aa-d7ca-43f0-84f5-e2fa59310bb1"
      },
      "execution_count": null,
      "outputs": [
        {
          "output_type": "execute_result",
          "data": {
            "text/plain": [
              "0.0045029805"
            ]
          },
          "metadata": {},
          "execution_count": 14
        }
      ]
    },
    {
      "cell_type": "code",
      "source": [
        "shimmer_db"
      ],
      "metadata": {
        "colab": {
          "base_uri": "https://localhost:8080/"
        },
        "id": "nwa8z9M0Oo8b",
        "outputId": "d4c1a0bd-dbe6-459b-818f-953558ee691e"
      },
      "execution_count": null,
      "outputs": [
        {
          "output_type": "execute_result",
          "data": {
            "text/plain": [
              "-46.92999839782715"
            ]
          },
          "metadata": {},
          "execution_count": 15
        }
      ]
    },
    {
      "cell_type": "code",
      "source": [
        "shimmer_apq3"
      ],
      "metadata": {
        "colab": {
          "base_uri": "https://localhost:8080/"
        },
        "id": "gKzE0hCNOrDR",
        "outputId": "0b1362b3-5ba9-48de-bc6f-4062ac04ca03"
      },
      "execution_count": null,
      "outputs": [
        {
          "output_type": "execute_result",
          "data": {
            "text/plain": [
              "0.002009001"
            ]
          },
          "metadata": {},
          "execution_count": 16
        }
      ]
    },
    {
      "cell_type": "code",
      "source": [
        "shimmer_apq5"
      ],
      "metadata": {
        "colab": {
          "base_uri": "https://localhost:8080/"
        },
        "id": "NPrJmPa1OvKZ",
        "outputId": "d1525c06-ee81-4892-b673-e12bcd4a4768"
      },
      "execution_count": null,
      "outputs": [
        {
          "output_type": "execute_result",
          "data": {
            "text/plain": [
              "0.002356627"
            ]
          },
          "metadata": {},
          "execution_count": 17
        }
      ]
    },
    {
      "cell_type": "code",
      "source": [
        "# Calculate NHR and HNR using librosa\n",
        "nhr = librosa.effects.harmonic(y)[0]\n",
        "hnr = librosa.effects.harmonic(y)[0] / librosa.effects.percussive(y)[0]"
      ],
      "metadata": {
        "id": "BzGdz_peOxaW"
      },
      "execution_count": null,
      "outputs": []
    },
    {
      "cell_type": "code",
      "source": [
        "nhr"
      ],
      "metadata": {
        "colab": {
          "base_uri": "https://localhost:8080/"
        },
        "id": "IInF2BSzO2do",
        "outputId": "32dc87ae-56f3-478f-be94-ec25a2ea45c7"
      },
      "execution_count": null,
      "outputs": [
        {
          "output_type": "execute_result",
          "data": {
            "text/plain": [
              "-3.4569282e-06"
            ]
          },
          "metadata": {},
          "execution_count": 19
        }
      ]
    },
    {
      "cell_type": "code",
      "source": [
        "hnr"
      ],
      "metadata": {
        "colab": {
          "base_uri": "https://localhost:8080/"
        },
        "id": "zxaot8c2O48y",
        "outputId": "8906c215-1f4a-46b3-e957-14a18e32a6ef"
      },
      "execution_count": null,
      "outputs": [
        {
          "output_type": "execute_result",
          "data": {
            "text/plain": [
              "-1.0000006"
            ]
          },
          "metadata": {},
          "execution_count": 20
        }
      ]
    },
    {
      "cell_type": "code",
      "source": [
        "spread1 = np.std(np.diff(pitch))\n",
        "spread2 = np.std(np.diff(np.diff(pitch)))"
      ],
      "metadata": {
        "id": "N-S6vWTnO7z_"
      },
      "execution_count": null,
      "outputs": []
    },
    {
      "cell_type": "code",
      "source": [
        "spread1"
      ],
      "metadata": {
        "colab": {
          "base_uri": "https://localhost:8080/"
        },
        "id": "09q-IxP7PCk2",
        "outputId": "5799c63b-d546-40f4-f928-8abedce4ed87"
      },
      "execution_count": null,
      "outputs": [
        {
          "output_type": "execute_result",
          "data": {
            "text/plain": [
              "16.705574"
            ]
          },
          "metadata": {},
          "execution_count": 22
        }
      ]
    },
    {
      "cell_type": "code",
      "source": [
        "spread2"
      ],
      "metadata": {
        "colab": {
          "base_uri": "https://localhost:8080/"
        },
        "id": "eoikq1x8PD1x",
        "outputId": "7d5278b4-62d5-4498-ca59-52f0676935f5"
      },
      "execution_count": null,
      "outputs": [
        {
          "output_type": "execute_result",
          "data": {
            "text/plain": [
              "28.084023"
            ]
          },
          "metadata": {},
          "execution_count": 23
        }
      ]
    },
    {
      "cell_type": "code",
      "source": [
        "mdvp_apq = np.mean(np.abs(np.diff(y, 2)))"
      ],
      "metadata": {
        "id": "GBi53qzkQEOE"
      },
      "execution_count": null,
      "outputs": []
    },
    {
      "cell_type": "code",
      "source": [
        "mdvp_apq"
      ],
      "metadata": {
        "colab": {
          "base_uri": "https://localhost:8080/"
        },
        "id": "0jJ5y_7dQi3k",
        "outputId": "186e7691-8201-4683-d726-5f9f27686eaa"
      },
      "execution_count": null,
      "outputs": [
        {
          "output_type": "execute_result",
          "data": {
            "text/plain": [
              "0.002009001"
            ]
          },
          "metadata": {},
          "execution_count": 28
        }
      ]
    },
    {
      "cell_type": "code",
      "source": [
        "shimmer_dda = np.mean(np.abs(np.diff(np.abs(y))))"
      ],
      "metadata": {
        "id": "Kri6CBflRftl"
      },
      "execution_count": null,
      "outputs": []
    },
    {
      "cell_type": "code",
      "source": [
        "shimmer_dda"
      ],
      "metadata": {
        "colab": {
          "base_uri": "https://localhost:8080/"
        },
        "id": "tt_veLdURqDz",
        "outputId": "b7b0527e-628c-4706-a1cd-93ef08275930"
      },
      "execution_count": null,
      "outputs": [
        {
          "output_type": "execute_result",
          "data": {
            "text/plain": [
              "0.004364014"
            ]
          },
          "metadata": {},
          "execution_count": 30
        }
      ]
    },
    {
      "cell_type": "code",
      "source": [
        "dfa_value = nolds.dfa(y)"
      ],
      "metadata": {
        "id": "FBgiHZYURreW"
      },
      "execution_count": null,
      "outputs": []
    },
    {
      "cell_type": "code",
      "source": [
        "dfa_value"
      ],
      "metadata": {
        "colab": {
          "base_uri": "https://localhost:8080/"
        },
        "id": "DgxeZYXdSQOd",
        "outputId": "1f96a591-a937-4661-c375-d9aa26c6e747"
      },
      "execution_count": null,
      "outputs": [
        {
          "output_type": "execute_result",
          "data": {
            "text/plain": [
              "0.06668169159264219"
            ]
          },
          "metadata": {},
          "execution_count": 32
        }
      ]
    },
    {
      "cell_type": "code",
      "source": [
        "# Sample ground truth pitch values\n",
        "ground_truth_pitch = np.array([-18.13, -19.41, -23.37, -23.77, -26.09, -28.63, -30.43, -38.40, -39.31, -41.38, -60.42])\n",
        "\n",
        "# Example pitch values (replace with your actual pitch values)\n",
        "pitch = np.random.rand(len(ground_truth_pitch))\n",
        "\n",
        "# Ensure the length of pitch is the same as ground_truth_pitch\n",
        "pitch = pitch[:len(ground_truth_pitch)]\n",
        "\n",
        "# Calculate PPE\n",
        "ppe = np.mean(np.abs((ground_truth_pitch - pitch) / ground_truth_pitch)) / 10\n",
        "\n",
        "print(f\"PPE: {ppe:.6f}\")"
      ],
      "metadata": {
        "colab": {
          "base_uri": "https://localhost:8080/"
        },
        "id": "IPEeNT15Syi0",
        "outputId": "2436351a-1a63-4af0-fae9-f3faf948e98f"
      },
      "execution_count": null,
      "outputs": [
        {
          "output_type": "stream",
          "name": "stdout",
          "text": [
            "PPE: 0.101706\n"
          ]
        }
      ]
    },
    {
      "cell_type": "code",
      "source": [
        "print(f\"(fo): {fo:.6f} Hz\")\n",
        "print(f\"(fhi): {fhi:.6f} Hz\")\n",
        "print(f\"(flo): {flo:.6f} Hz\")\n",
        "print(f\"Jitter(%): {jitter_percentage:.10f}\")\n",
        "print(f\"Jitter(Abs): {jitter_absolute:.6f}\")\n",
        "print(f\"RAP: {rap:.6f}\")\n",
        "print(f\"PPQ: {ppq:.6f}\")\n",
        "print(f\"Jitter:DDP: {jitter_ddp:.6f}\")\n",
        "print(f\"Shimmer: {shimmer:.6f}\")\n",
        "print(f\"Shimmer(dB): {shimmer_db:.6f}\")\n",
        "print(f\"Shimmer:APQ3: {shimmer_apq3:.6f}\")\n",
        "print(f\"Shimmer:APQ5: {shimmer_apq5:.6f}\")\n",
        "print(f\"NHR: {nhr:.6f}\")\n",
        "print(f\"HNR: {hnr:.6f}\")\n",
        "print(f\"PPE: {ppe:.6f}%\")\n",
        "print(f\"Spread1: {spread1:.6f}\")\n",
        "print(f\"Spread2: {spread2:.6f}\")\n",
        "print(f\"MDVP:APQ: {mdvp_apq:.6f}\")\n",
        "print(f\"Shimmer:DDA: {shimmer_dda:.6f}\")\n",
        "print(f\"DFA: {dfa_value:.6f}\")"
      ],
      "metadata": {
        "colab": {
          "base_uri": "https://localhost:8080/"
        },
        "id": "_N0O7V6gS6kv",
        "outputId": "e7541b97-5372-4077-f71e-c9391446ca6e"
      },
      "execution_count": null,
      "outputs": [
        {
          "output_type": "stream",
          "name": "stdout",
          "text": [
            "(fo): 340.664032 Hz\n",
            "(fhi): 597.622253 Hz\n",
            "(flo): 72.572464 Hz\n",
            "Jitter(%): 0.0000000012\n",
            "Jitter(Abs): 0.000021\n",
            "RAP: 1.415956\n",
            "PPQ: 0.713599\n",
            "Jitter:DDP: 4.247867\n",
            "Shimmer: 0.004503\n",
            "Shimmer(dB): -46.929998\n",
            "Shimmer:APQ3: 0.002009\n",
            "Shimmer:APQ5: 0.002357\n",
            "NHR: -0.000003\n",
            "HNR: -1.000001\n",
            "PPE: 0.101706%\n",
            "Spread1: 16.705574\n",
            "Spread2: 28.084023\n",
            "MDVP:APQ: 0.002009\n",
            "Shimmer:DDA: 0.004364\n"
          ]
        }
      ]
    },
    {
      "cell_type": "code",
      "source": [],
      "metadata": {
        "id": "p3_G53xQw2vh"
      },
      "execution_count": null,
      "outputs": []
    }
  ]
}